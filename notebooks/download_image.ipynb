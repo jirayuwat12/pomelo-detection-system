{
 "cells": [
  {
   "cell_type": "code",
   "execution_count": 1,
   "id": "9f7a1812",
   "metadata": {},
   "outputs": [],
   "source": [
    "import os\n",
    "import shutil"
   ]
  },
  {
   "cell_type": "code",
   "execution_count": null,
   "id": "ea779616",
   "metadata": {},
   "outputs": [],
   "source": [
    "ROBOFLOW_API_KEY = \"<INSERT YOUR KEY HERE>\"\n",
    "\n",
    "DATA_FOLDER = \"../data/\"\n",
    "\n",
    "DATASET_DETAILS = {\n",
    "    \"dataset_amount\": 2,\n",
    "    \"workspace_name\": [\"computer-vision-project-y5j59\", \"computer-vision-project-y5j59\"],\n",
    "    \"project_name\": [\"pomelo-yotwr-e5cxd\", \"pomelo-ripeness-detection-using-yolov7-network-fr6ma\"],\n",
    "    \"model_format\": [\"coco\", \"multiclass\"],\n",
    "    \"version\": [1, 1],\n",
    "    \"dataset_folder_name\": [\"pomelo-1\", \"Pomelo-Ripeness-Detection-using-YOLOv7-Network-1\"],\n",
    "}\n",
    "\n",
    "RIPE_COLUMN_GROUPS = ['ripe', 'old', 'overripe']\n",
    "NOT_RIPE_COLUMN_GROUPS = ['young']\n",
    "IGNORE_COLUMNS = ['testset', 'filename', 'not-ripe', 'ripe']\n",
    "\n",
    "TOTAL_PATH = os.path.join(DATA_FOLDER, \"total\")"
   ]
  },
  {
   "cell_type": "code",
   "execution_count": null,
   "id": "76e6b5aa",
   "metadata": {},
   "outputs": [],
   "source": [
    "from roboflow import Roboflow\n",
    "\n",
    "rf = Roboflow(api_key=ROBOFLOW_API_KEY)"
   ]
  },
  {
   "cell_type": "markdown",
   "id": "dba058cb",
   "metadata": {},
   "source": [
    "# Download data"
   ]
  },
  {
   "cell_type": "code",
   "execution_count": 16,
   "id": "ecbe2850",
   "metadata": {},
   "outputs": [
    {
     "name": "stdout",
     "output_type": "stream",
     "text": [
      "loading Roboflow workspace...\n",
      "loading Roboflow project...\n"
     ]
    },
    {
     "name": "stderr",
     "output_type": "stream",
     "text": [
      "Downloading Dataset Version Zip in pomelo-1 to coco:: 100%|██████████| 58108/58108 [00:05<00:00, 11481.29it/s]"
     ]
    },
    {
     "name": "stdout",
     "output_type": "stream",
     "text": [
      "\n"
     ]
    },
    {
     "name": "stderr",
     "output_type": "stream",
     "text": [
      "\n",
      "Extracting Dataset Version Zip to pomelo-1 in coco:: 100%|██████████| 219/219 [00:00<00:00, 1996.23it/s]\n"
     ]
    },
    {
     "name": "stdout",
     "output_type": "stream",
     "text": [
      "loading Roboflow workspace...\n",
      "loading Roboflow project...\n"
     ]
    },
    {
     "name": "stderr",
     "output_type": "stream",
     "text": [
      "Downloading Dataset Version Zip in Pomelo-Ripeness-Detection-using-YOLOv7-Network-1 to multiclass:: 100%|██████████| 249939/249939 [00:16<00:00, 15364.32it/s]"
     ]
    },
    {
     "name": "stdout",
     "output_type": "stream",
     "text": [
      "\n"
     ]
    },
    {
     "name": "stderr",
     "output_type": "stream",
     "text": [
      "\n",
      "Extracting Dataset Version Zip to Pomelo-Ripeness-Detection-using-YOLOv7-Network-1 in multiclass:: 100%|██████████| 242/242 [00:01<00:00, 230.86it/s]\n"
     ]
    }
   ],
   "source": [
    "# Download the datasets\n",
    "for dataset_index in range(DATASET_DETAILS[\"dataset_amount\"]):\n",
    "    workspace_name = DATASET_DETAILS[\"workspace_name\"][dataset_index]\n",
    "    project_name = DATASET_DETAILS[\"project_name\"][dataset_index]\n",
    "    model_format = DATASET_DETAILS[\"model_format\"][dataset_index]\n",
    "    version_number = DATASET_DETAILS[\"version\"][dataset_index]\n",
    "    dataset_folder_name = DATASET_DETAILS[\"dataset_folder_name\"][dataset_index]\n",
    "\n",
    "    # Download the dataset\n",
    "    project = rf.workspace(workspace_name).project(project_name)\n",
    "    version = project.version(version_number)\n",
    "    dataset = version.download(model_format)\n",
    "\n",
    "    # Define the source and destination paths\n",
    "    source_path = dataset_folder_name\n",
    "    destination_path = os.path.join(DATA_FOLDER, dataset_folder_name)\n",
    "\n",
    "    # Create the destination directory if it doesn't exist\n",
    "    if not os.path.exists(destination_path):\n",
    "        os.makedirs(destination_path)\n",
    "\n",
    "    # Remove exists destination folder\n",
    "    shutil.rmtree(destination_path, ignore_errors=True)\n",
    "\n",
    "    # Move the dataset folder to the destination\n",
    "    shutil.move(source_path, destination_path)"
   ]
  },
  {
   "cell_type": "code",
   "execution_count": 17,
   "id": "a1c606d1",
   "metadata": {},
   "outputs": [],
   "source": [
    "# Rename folder\n",
    "for dataset_index in range(DATASET_DETAILS[\"dataset_amount\"]):\n",
    "    dataset_folder_name = DATASET_DETAILS[\"dataset_folder_name\"][dataset_index]\n",
    "    new_dataset_folder_name = \"pomelo-\" + (\"detection\" if DATASET_DETAILS[\"model_format\"][dataset_index] == \"coco\" else \"classification\")\n",
    "    \n",
    "    new_dataset_folder_path = os.path.join(DATA_FOLDER, new_dataset_folder_name)\n",
    "    dataset_folder_path = os.path.join(DATA_FOLDER, dataset_folder_name)\n",
    "\n",
    "    # Remove exists new dataset folder\n",
    "    shutil.rmtree(new_dataset_folder_path, ignore_errors=True)\n",
    "    # Rename the dataset folder\n",
    "    shutil.move(dataset_folder_path, new_dataset_folder_path)"
   ]
  },
  {
   "cell_type": "markdown",
   "id": "9094ce83",
   "metadata": {},
   "source": [
    "# Augmentation"
   ]
  },
  {
   "cell_type": "markdown",
   "id": "2847e20c",
   "metadata": {},
   "source": []
  }
 ],
 "metadata": {
  "kernelspec": {
   "display_name": ".venv",
   "language": "python",
   "name": "python3"
  },
  "language_info": {
   "codemirror_mode": {
    "name": "ipython",
    "version": 3
   },
   "file_extension": ".py",
   "mimetype": "text/x-python",
   "name": "python",
   "nbconvert_exporter": "python",
   "pygments_lexer": "ipython3",
   "version": "3.11.5"
  }
 },
 "nbformat": 4,
 "nbformat_minor": 5
}
